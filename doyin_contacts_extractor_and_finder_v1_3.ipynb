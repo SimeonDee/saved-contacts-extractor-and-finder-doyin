{
 "cells": [
  {
   "cell_type": "markdown",
   "metadata": {},
   "source": [
    "    *****************************************************\n",
    "    Programmer:    Adeyemi Adedoyin Simeon\n",
    "    Location:      Offa, Kwara State, Nigeria\n",
    "    Contact:       adeyemi.sa1@gmail.com, +2348064555381\n",
    "    Github:        https://github.com/SimeonDee\n",
    "    Date:          6th April, 2020, 03:16 AM\n",
    "    Version:       1.3\n",
    "    *****************************************************"
   ]
  },
  {
   "cell_type": "markdown",
   "metadata": {},
   "source": [
    "# Python Project to Scrap Saved Contacts .vcf file and extract Names, Phone Numbers and also allows one to Seacrh for saved contacts.\n",
    " "
   ]
  },
  {
   "cell_type": "markdown",
   "metadata": {},
   "source": [
    "This project was inspired by my need to find some numbers when my mobile phone got spoilt. Although i had the contacts exported to an external memory card, i still could not access nor find certain contacts without getting hold of another mobile phone to import the stored contacts to (which at the moment was not even available). \n",
    "\n",
    "I obviously would not want to borrow a friend's mobile phone and bombard his/her contacts with my own contacts, especially when all the efforts would only be just finding a few contacts.\n",
    "\n",
    "So, I wrote this program, hoping that it would be useful to someone else somewhere, facing the same or similar ordeal."
   ]
  },
  {
   "cell_type": "code",
   "execution_count": 26,
   "metadata": {},
   "outputs": [],
   "source": [
    "import pandas as pd\n",
    "\n",
    "class SavedPhonebookExtractor:\n",
    "    \"\"\"\n",
    "    Extracts contact names and phone-numbers from saved phone contact .vcf file and allows you to search for specific contacts using name or phone number\n",
    "    \"\"\"\n",
    "    def __init__(self, saved_contacts_file=None):\n",
    "        \"\"\"        \n",
    "        * This extracts names and phone numbers of contacts saved in .vcf file \n",
    "        format and return it as pandas Dataframe.\n",
    "        * It also supports searching for specific contact.\n",
    "        * Enables recall of last search results\n",
    "        \"\"\"\n",
    "        self.extracted_contacts_ = None\n",
    "        self.last_search_results_ = []\n",
    "        self.contacts_ = None\n",
    "        \n",
    "        # Opening the saved contacts .vcf file\n",
    "        with open(saved_contacts_file) as f:\n",
    "            lines = [x.strip() for x in f.readlines()]\n",
    "            txt = ' '.join(lines)\n",
    "            self.contacts_ = txt.split(' END:VCARD ')\n",
    "            \n",
    "        \n",
    "    def extract_numbers_from_contacts(self):\n",
    "        \"\"\"\n",
    "        Extract phone numbers from a given 'savedContactFile' in .vcf format\n",
    "        \n",
    "        Argument: \n",
    "        * saved_contacts_file: a string holding the path to the saved .vcf file\n",
    "        \"\"\"\n",
    "\n",
    "        # Actual Extraction of Contact Names and Phone numbers\n",
    "        contTemp = [x.replace('FN:', '_').replace('TEL;CELL:', '_') for x in self.contacts_]\n",
    "        contTemp = [x.split(sep='_')[1:3] for x in contTemp]\n",
    "\n",
    "        for i in range(len(contTemp)):\n",
    "            if len(contTemp[i]) == 1 and 'TEL' in contTemp[i][0]:\n",
    "                contTemp[i] = contTemp[i][0].replace('TEL;CELL:', '_', 1).replace('TEL;CELL;PREF:', '_', 1).replace('TEL;OTHER:','_', 1).replace('TEL;HOME:','_', 1)\n",
    "                contTemp[i] = contTemp[i][0].replace('TEL;WORK:', '_', 1).replace('TEL;X-Mobile:', '_', 1).replace('TEL;X-Other:', '_', 1).replace('TEL;X-Work:', '_', 1)\n",
    "                contTemp[i] = contTemp[i][0].replace('TEL;X-Home:', '_', 1).replace('TEL;X-Afeez:', '_', 1).replace('TEL;X-Joshua:', '_', 1).replace('TEL;', '_', 1)\n",
    "                contTemp[i] = contTemp[i].split('_')\n",
    "\n",
    "            if len(contTemp[i]) == 1:\n",
    "                contTemp[i] = ['NIL', contTemp[i][0]]\n",
    "\n",
    "            if 'TEL' in contTemp[i][0]:\n",
    "                contTemp[i][0] = contTemp[i][0].replace(' TEL;CELL:', '_', 1).replace(' TEL;CELL;PREF:', '_', 1).replace(' TEL;OTHER:','_', 1).replace(' TEL;HOME:','_', 1)\n",
    "                contTemp[i][0] = contTemp[i][0].replace(' TEL;WORK:', '_', 1).replace(' TEL;X-Mobile:', '_', 1).replace(' TEL;X-Other:', '_', 1).replace(' TEL;X-Work:', '_', 1)\n",
    "                contTemp[i][0] = contTemp[i][0].replace(' TEL;X-Home:', '_', 1).replace(' TEL;X-Afeez:', '_', 1).replace(' TEL;X-Joshua:', '_', 1)\n",
    "\n",
    "                t = []\n",
    "                t.extend(contTemp[i][0].split('_'))\n",
    "                t.extend(contTemp[i][1:])\n",
    "                contTemp[i] = t\n",
    "                t = []\n",
    "\n",
    "            if len(contTemp[i]) > 2:\n",
    "                contTemp[i] = [contTemp[i][0], ', '.join(contTemp[i][1:])]\n",
    "\n",
    "            if 'TEL' in contTemp[i][1]:\n",
    "                contTemp[i][1] = contTemp[i][1].replace(' TEL;CELL:', ', ').replace(' TEL;CELL;PREF:', ', ').replace(' TEL;OTHER:', ', ').replace(' TEL;HOME:', ', ')\n",
    "                contTemp[i][1] = contTemp[i][1].replace(' TEL;X-Mobile:', ', ').replace(' TEL;X-Other:', ', ').replace(' TEL;X-Work:', ', ').replace(' TEL;X-Home:', ', ')\n",
    "                contTemp[i][1] = contTemp[i][1].replace(' TEL;HOME:', ', ').replace(' TEL;WORK:', ', ').replace(' TEL;X-Afeez:', ', ').replace(' TEL;X-Joshua:', ', ').replace(' TEL;', ', ')\n",
    "\n",
    "            if ' PHOTO;' in contTemp[i][1]:\n",
    "                contTemp[i][1] = contTemp[i][1].split(' PHOTO;')[0]\n",
    "\n",
    "            if ';;' in contTemp[i][1]:\n",
    "                contTemp[i][1] = contTemp[i][1].replace(';;', '')\n",
    "\n",
    "\n",
    "        # Converting extracted contacts to pd.Dataframe\n",
    "        dico = {'Names':[x.strip() for [x,_] in contTemp], 'TEL':[y.strip() for [_,y] in contTemp]}\n",
    "        idx = list(range(1, len(contTemp)+1))\n",
    "        extracted_contacts = pd.DataFrame(dico, index=idx)\n",
    "\n",
    "        # Sorting the contacts by name\n",
    "        extracted_contacts.sort_values(by='Names', inplace=True)\n",
    "        extracted_contacts.index = list(range(1, len(extracted_contacts) + 1))\n",
    "        \n",
    "        self.extracted_contacts_ = extracted_contacts\n",
    "        print(f'Total Contacts Extracted: {extracted_contacts.shape[0]}')\n",
    "\n",
    "        return self.extracted_contacts_\n",
    "    \n",
    "    \n",
    "    def find_contact_from_df(self, contacts_df, search_term='', search_term_type='name'):\n",
    "        \"\"\"\n",
    "        Find contacts related to 'search_term' from saved contacts stored as pandas Dataframe\n",
    "        \n",
    "        Arguments:\n",
    "        * contacts: A pandas Dataframe obj containing columns 'Names' and 'TEL'\n",
    "        \n",
    "        * search_term (String): \n",
    "            A search term to find from contacts whose value can be a 'name' or 'phone' number. \n",
    "        \n",
    "        * search_term_type (String): what to find. \n",
    "            Possible Values: {'name', 'phone'}\n",
    "            The kind of search term supplied.\n",
    "        \n",
    "            NOTE: If field='name', then 'search_term' must be name of contact to find\n",
    "                but if field='phone' then 'search_term' must be set to a Phone number.\n",
    "        \"\"\"\n",
    "        found_flag = False\n",
    "        if type(contacts_df) == pd.DataFrame and search_term != '':\n",
    "            self.last_search_results_.clear() # reset\n",
    "            \n",
    "            if search_term_type == 'name':    \n",
    "                for i,val in enumerate(contacts_df.Names):\n",
    "                    if search_term.upper() in val.upper():\n",
    "                        found_flag = True\n",
    "                        self.last_search_results_.append(str(val) + ': ' + contacts_df.iloc[i]['TEL'])\n",
    "                        print(f\"{val} : {contacts_df.iloc[i]['TEL']}\")\n",
    "                        \n",
    "            elif search_term_type == 'phone':\n",
    "                for i,val in enumerate(contacts_df.TEL):\n",
    "                    if search_term.strip() in val.replace(' ', ''):\n",
    "                        found_flag = True\n",
    "                        self.last_search_results_.append(contacts_df.iloc[i]['Names'] + ': ' + contacts_df.iloc[i]['TEL'])\n",
    "                        print(f\"{contacts_df.iloc[i]['Names']} : {contacts_df.iloc[i]['TEL']}\")\n",
    "                \n",
    "\n",
    "            if found_flag == False:\n",
    "                self.last_search_results_.append('Sorry, ' + search_term + ' is not in the contacts.' )\n",
    "                print(f'Sorry, {search_term} is not in the contacts.')\n",
    "\n",
    "            return\n",
    "\n",
    "        elif type(contacts_df) == pd.DataFrame and search_term == '':\n",
    "            return contacts_df\n",
    "\n",
    "        elif type(contacts_df) != pd.DataFrame:\n",
    "            print(\"Contacts has to be a pandas dataframe object contating 'Names' and 'TEL' columns.\")\n",
    "            return\n",
    "        \n",
    "    \n",
    "    def find_contact_from_stored_phonebook(self, phonebook_file, search_term='', search_term_type='name'):\n",
    "        \"\"\"\n",
    "        Find phone number of 'search_term' from 'phonebook' stored as vcf\n",
    "        \n",
    "        Arguments:\n",
    "        * phonebook_file: (String), the path to the '.vcf' stored phone-contacts filename\n",
    "        \n",
    "        * search_term: (String), A search term to find from contacts\n",
    "        \n",
    "        * search_term_type (String): what to find. \n",
    "            Possible Values: {'name', 'phone'}\n",
    "            The kind of search term supplied.\n",
    "        \n",
    "            NOTE: If field='name', then 'search_term' must be name of contact to find\n",
    "                but if field='phone' then 'search_term' must be set to a Phone number.\n",
    "        \"\"\"\n",
    "        self.__init__(phonebook_file)\n",
    "        contacts = self.extract_numbers_from_contacts()\n",
    "        self.find_contact_from_df(contacts_df=contacts, search_term=search_term, search_term_type=search_term_type)\n",
    "    \n",
    "    \n",
    "    def find_contact(self, search_term='', search_term_type='name'):\n",
    "        \"\"\"\n",
    "        * search_term: (String), A search term to find from contacts\n",
    "        \n",
    "        * search_term_type (String): what to find. \n",
    "            Possible Values: {'name', 'phone'}\n",
    "            The kind of search term supplied.\n",
    "        \n",
    "            NOTE: If field='name', then 'search_term' must be name of contact to find\n",
    "                but if field='phone' then 'search_term' must be set to a Phone number.\n",
    "        \"\"\"\n",
    "        if self.extracted_contacts_ is None:\n",
    "            _ = self.extract_numbers_from_contacts()\n",
    "        self.find_contact_from_df(contacts_df=self.extracted_contacts_, search_term=search_term, search_term_type=search_term_type)\n",
    "        \n",
    "        \n",
    "    def get_last_search_results(self):\n",
    "        \"\"\"\n",
    "        Displays the last search results\n",
    "        \"\"\"\n",
    "        print('\\n'.join(self.last_search_results_))\n",
    "    \n",
    "    def save_extracted_contacts_to_excel_file(self, destination_path='contacts.xlsx'):\n",
    "        self.extracted_contacts_.to_excel(destination_path)\n",
    "        print('Contacts saved successfully.')\n",
    "        "
   ]
  },
  {
   "cell_type": "markdown",
   "metadata": {},
   "source": [
    "# ============ SAMPLE USAGE =========================="
   ]
  },
  {
   "cell_type": "markdown",
   "metadata": {},
   "source": [
    "# Instantiating the Class"
   ]
  },
  {
   "cell_type": "code",
   "execution_count": 27,
   "metadata": {},
   "outputs": [],
   "source": [
    "contacts_extractor = SavedPhonebookExtractor(saved_contacts_file=\"MyContactsBkUpFrmPhn1.vcf\")"
   ]
  },
  {
   "cell_type": "markdown",
   "metadata": {},
   "source": [
    "# Extracting the Contacts"
   ]
  },
  {
   "cell_type": "code",
   "execution_count": 28,
   "metadata": {},
   "outputs": [
    {
     "name": "stdout",
     "output_type": "stream",
     "text": [
      "Total Contacts Extracted: 1070\n"
     ]
    }
   ],
   "source": [
    "extracted_contacts = contacts_extractor.extract_numbers_from_contacts()"
   ]
  },
  {
   "cell_type": "code",
   "execution_count": 29,
   "metadata": {},
   "outputs": [
    {
     "data": {
      "text/html": [
       "<div>\n",
       "<style scoped>\n",
       "    .dataframe tbody tr th:only-of-type {\n",
       "        vertical-align: middle;\n",
       "    }\n",
       "\n",
       "    .dataframe tbody tr th {\n",
       "        vertical-align: top;\n",
       "    }\n",
       "\n",
       "    .dataframe thead th {\n",
       "        text-align: right;\n",
       "    }\n",
       "</style>\n",
       "<table border=\"1\" class=\"dataframe\">\n",
       "  <thead>\n",
       "    <tr style=\"text-align: right;\">\n",
       "      <th></th>\n",
       "      <th>Names</th>\n",
       "      <th>TEL</th>\n",
       "    </tr>\n",
       "  </thead>\n",
       "  <tbody>\n",
       "    <tr>\n",
       "      <th>1</th>\n",
       "      <td>*606#</td>\n",
       "      <td>606</td>\n",
       "    </tr>\n",
       "    <tr>\n",
       "      <th>2</th>\n",
       "      <td>1Gb Airtel BBC</td>\n",
       "      <td>4401</td>\n",
       "    </tr>\n",
       "    <tr>\n",
       "      <th>3</th>\n",
       "      <td>3D Epoxy Floor Training @ Ilorin</td>\n",
       "      <td>08060382009</td>\n",
       "    </tr>\n",
       "    <tr>\n",
       "      <th>4</th>\n",
       "      <td>4 me alone NCS Mem No</td>\n",
       "      <td>11053</td>\n",
       "    </tr>\n",
       "    <tr>\n",
       "      <th>5</th>\n",
       "      <td>419</td>\n",
       "      <td>08104062962</td>\n",
       "    </tr>\n",
       "  </tbody>\n",
       "</table>\n",
       "</div>"
      ],
      "text/plain": [
       "                              Names          TEL\n",
       "1                             *606#          606\n",
       "2                    1Gb Airtel BBC         4401\n",
       "3  3D Epoxy Floor Training @ Ilorin  08060382009\n",
       "4             4 me alone NCS Mem No        11053\n",
       "5                               419  08104062962"
      ]
     },
     "execution_count": 29,
     "metadata": {},
     "output_type": "execute_result"
    }
   ],
   "source": [
    "extracted_contacts.head()"
   ]
  },
  {
   "cell_type": "markdown",
   "metadata": {},
   "source": [
    "# Saving Extracted contacts in pandas dataframe format to disk as excel file"
   ]
  },
  {
   "cell_type": "code",
   "execution_count": 53,
   "metadata": {},
   "outputs": [
    {
     "name": "stdout",
     "output_type": "stream",
     "text": [
      "Contacts saved successfully.\n"
     ]
    }
   ],
   "source": [
    "contacts_extractor.save_extracted_contacts_to_excel_file(destination_path='ExtractedContacts2.xlsx')"
   ]
  },
  {
   "cell_type": "markdown",
   "metadata": {},
   "source": [
    "# Finding Contacts"
   ]
  },
  {
   "cell_type": "code",
   "execution_count": 30,
   "metadata": {},
   "outputs": [
    {
     "name": "stdout",
     "output_type": "stream",
     "text": [
      "Dayo Master : 08144406255\n",
      "Masterline Arts painter : 08034665620, 08050871066\n"
     ]
    }
   ],
   "source": [
    "contacts_extractor.find_contact(search_term='master')"
   ]
  },
  {
   "cell_type": "markdown",
   "metadata": {},
   "source": [
    "# How to search for contact name, given phone number"
   ]
  },
  {
   "cell_type": "code",
   "execution_count": 33,
   "metadata": {},
   "outputs": [
    {
     "name": "stdout",
     "output_type": "stream",
     "text": [
      "Dayo Master : 08144406255\n"
     ]
    }
   ],
   "source": [
    "contacts_extractor.find_contact(search_term='08144406255', search_term_type='phone')"
   ]
  },
  {
   "cell_type": "markdown",
   "metadata": {},
   "source": [
    "# Calling other direct access functions"
   ]
  },
  {
   "cell_type": "code",
   "execution_count": 34,
   "metadata": {},
   "outputs": [
    {
     "name": "stdout",
     "output_type": "stream",
     "text": [
      "Dayo Master : 08144406255\n",
      "Masterline Arts painter : 08034665620, 08050871066\n"
     ]
    }
   ],
   "source": [
    "contacts_extractor.find_contact_from_df(contacts_df=extracted_contacts, search_term='master')"
   ]
  },
  {
   "cell_type": "code",
   "execution_count": 35,
   "metadata": {},
   "outputs": [
    {
     "name": "stdout",
     "output_type": "stream",
     "text": [
      "Total Contacts Extracted: 1070\n",
      "Dayo Master : 08144406255\n",
      "Masterline Arts painter : 08034665620, 08050871066\n"
     ]
    }
   ],
   "source": [
    "# Search name\n",
    "contacts_extractor.find_contact_from_stored_phonebook(phonebook_file='MyContactsBkUpFrmPhn1.vcf', search_term='master')"
   ]
  },
  {
   "cell_type": "code",
   "execution_count": 37,
   "metadata": {},
   "outputs": [
    {
     "name": "stdout",
     "output_type": "stream",
     "text": [
      "Total Contacts Extracted: 1070\n",
      "Sorry, ball is not in the contacts.\n"
     ]
    }
   ],
   "source": [
    "# Cases where search item annot be found i.e. does not exist in contact\n",
    "contacts_extractor.find_contact_from_stored_phonebook(phonebook_file='MyContactsBkUpFrmPhn1.vcf', search_term='ball')"
   ]
  },
  {
   "cell_type": "code",
   "execution_count": 41,
   "metadata": {},
   "outputs": [
    {
     "name": "stdout",
     "output_type": "stream",
     "text": [
      "Total Contacts Extracted: 1070\n",
      "Masterline Arts painter : 08034665620, 08050871066\n"
     ]
    }
   ],
   "source": [
    "# Search phone number\n",
    "contacts_extractor.find_contact_from_stored_phonebook(phonebook_file='MyContactsBkUpFrmPhn1.vcf', \n",
    "                                                      search_term='08050871066', search_term_type='phone')"
   ]
  },
  {
   "cell_type": "markdown",
   "metadata": {},
   "source": [
    "# Viewing last search result"
   ]
  },
  {
   "cell_type": "code",
   "execution_count": 42,
   "metadata": {},
   "outputs": [
    {
     "name": "stdout",
     "output_type": "stream",
     "text": [
      "Masterline Arts painter: 08034665620, 08050871066\n"
     ]
    }
   ],
   "source": [
    "contacts_extractor.get_last_search_results()"
   ]
  },
  {
   "cell_type": "markdown",
   "metadata": {},
   "source": [
    "# ================= THE END ============================="
   ]
  },
  {
   "cell_type": "code",
   "execution_count": null,
   "metadata": {},
   "outputs": [],
   "source": []
  }
 ],
 "metadata": {
  "kernelspec": {
   "display_name": "Python 3",
   "language": "python",
   "name": "python3"
  },
  "language_info": {
   "codemirror_mode": {
    "name": "ipython",
    "version": 3
   },
   "file_extension": ".py",
   "mimetype": "text/x-python",
   "name": "python",
   "nbconvert_exporter": "python",
   "pygments_lexer": "ipython3",
   "version": "3.6.5"
  }
 },
 "nbformat": 4,
 "nbformat_minor": 2
}
